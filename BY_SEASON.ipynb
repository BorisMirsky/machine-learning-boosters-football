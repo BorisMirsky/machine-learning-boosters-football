{
  "nbformat": 4,
  "nbformat_minor": 0,
  "metadata": {
    "kernelspec": {
      "display_name": "Python 3",
      "language": "python",
      "name": "python3"
    },
    "language_info": {
      "codemirror_mode": {
        "name": "ipython",
        "version": 3
      },
      "file_extension": ".py",
      "mimetype": "text/x-python",
      "name": "python",
      "nbconvert_exporter": "python",
      "pygments_lexer": "ipython3",
      "version": "3.7.6"
    },
    "colab": {
      "provenance": []
    }
  },
  "cells": [
    {
      "cell_type": "markdown",
      "metadata": {
        "id": "6Xb2HHGpwnZd"
      },
      "source": [
        "https://boosters.pro/championship/predskazanie/overview\n",
        "\n",
        "Hеобходимо для каждой пары команд вывести вероятности трех исходов: победа домашней команды, победа гостевой команды, ничья. \n"
      ]
    },
    {
      "cell_type": "code",
      "metadata": {
        "id": "1JAxaGHywnZj"
      },
      "source": [
        "import pandas as pd\n",
        "import numpy as np\n",
        "#from sklearn.ensemble import RandomForestClassifier, GradientBoostingClassifier\n",
        "from sklearn.metrics import log_loss, roc_auc_score\n",
        "from sklearn.model_selection import StratifiedKFold, cross_val_predict, GridSearchCV \n",
        "from sklearn.linear_model import LogisticRegression\n",
        "from sklearn.preprocessing import StandardScaler, MinMaxScaler\n",
        "#from sklearn.ensemble import RandomForestClassifier\n",
        "#from sklearn.pipeline import Pipeline\n",
        "import copy\n",
        "import xgboost as xgb\n",
        "\n",
        "\n",
        "# Ложное срабатывание, напоминает, что можно работать с копией а не с оригиналом.\n",
        "# Его можно отключить. \n",
        "pd.options.mode.chained_assignment = None "
      ],
      "execution_count": null,
      "outputs": []
    },
    {
      "cell_type": "code",
      "source": [
        "from google.colab import files"
      ],
      "metadata": {
        "id": "0WMPM5UCje0-"
      },
      "execution_count": null,
      "outputs": []
    },
    {
      "cell_type": "code",
      "metadata": {
        "id": "ZfvkfVD0wwtf"
      },
      "source": [
        "files.upload()  # train"
      ],
      "execution_count": null,
      "outputs": []
    },
    {
      "cell_type": "code",
      "metadata": {
        "id": "KSQKsrrNw8hS"
      },
      "source": [
        "files.upload()    # test"
      ],
      "execution_count": null,
      "outputs": []
    },
    {
      "cell_type": "code",
      "metadata": {
        "id": "tFWNgxjvw4iU"
      },
      "source": [
        "train = pd.read_csv(\"train.csv\")                # (16456, 18)        ~2.7Mb\n",
        "test = pd.read_csv(\"test.csv\")                  # (7211, 15)         ~1Mb\n",
        "#ans = pd.read_csv(\"sample_submission.csv\")     # (7211, 4) не используется, только посмотреть и понять #Потерял этот файл."
      ],
      "execution_count": null,
      "outputs": []
    },
    {
      "cell_type": "code",
      "metadata": {
        "id": "j1PEpmF4wnZm"
      },
      "source": [
        "train.head()"
      ],
      "execution_count": null,
      "outputs": []
    },
    {
      "cell_type": "code",
      "metadata": {
        "id": "xZ2dworcwnZo"
      },
      "source": [
        "test.head()"
      ],
      "execution_count": null,
      "outputs": []
    },
    {
      "cell_type": "code",
      "source": [
        "train.info()"
      ],
      "metadata": {
        "id": "A-nqKRAS9Ksr"
      },
      "execution_count": null,
      "outputs": []
    },
    {
      "cell_type": "code",
      "metadata": {
        "collapsed": true,
        "id": "iR0WjStpwnZp"
      },
      "source": [
        "test.info()"
      ],
      "execution_count": null,
      "outputs": []
    },
    {
      "cell_type": "markdown",
      "metadata": {
        "id": "9t2wWhW-wnZp"
      },
      "source": [
        "**Понимание признаков.**\n",
        "\n",
        "`Красные карточки` могут влиять на `target`, но их всего лишь 3%; `жёлтые карточки` около 20%. \n",
        "`Состав команды`, `запасные`, `кто вышел на замену` - есть данные от 10 до 30%. Можно было бы разложить на отдельных игроков и попробовать понять роль отдельных футболистов, особенно локальных 'звёзд', которые способны сделать результат. Но все игроки анонимизированы - в одном матче один персонаж назван №5, в другом он же становится №18, т.е. теряется привязка к конкретной личности, и все попытки обесмысливаются. \n",
        "\n",
        "Поэтому перечисленные признаки не беру."
      ]
    },
    {
      "cell_type": "markdown",
      "source": [
        "Отдельно можно пожалеть об отсутствии интересных признаков, например о продвинутой статистики типа xG и PPDA."
      ],
      "metadata": {
        "id": "AMF_yMU7Z1A4"
      }
    },
    {
      "cell_type": "markdown",
      "metadata": {
        "id": "GC4ngaLywnZq"
      },
      "source": [
        "\n",
        "\n",
        "В данном соревновании создать новые признаки не проблема. Но применять их сразу на все имеющиеся данные (т.е. на все сезоны) неправильно! Это средняя температура даже не по палате, а по больнице. Чтобы конкретизировать использование данных **вводится понятие  `сезон` - цикл жизни турнира и жизни команды**. Тут логика в том, что для команд из топа и с низа каждый отдельный сезон складывается цельно, что чётко видно по статистическим данным. Для команд из середины таблицы это менее справедливо, хотя и там будут закономерности, связанные именно с особенностями каждого отдельного сезона.\n",
        "\n",
        "Признак `tour` помог понять по какой формуле (осень\\весна или весна\\осень) проходит чемпионат (`champ`). С этим пониманием вытащил год матча из `time` и сформировал важнейший признак `season`, который представлен в виде `2012 2013`. Tour и champ не имеют пропусков данных, что можно считать намёком на важность этих признаков.\n",
        "\n"
      ]
    },
    {
      "cell_type": "markdown",
      "source": [
        "\n",
        "# **Стратегия**\n",
        "1. Объединение `train` & `test` не нужно. Признаки для них делаются раздельно (это знание получено опытным путём).\n",
        "2. Есть признаки для домашней (`home`) и выездной (`away`) команды.\n",
        "2. Создали признак `season` для `train` & `test`.\n",
        "3. Кроме раздельного (для `train` & `test`) создания признаков, каждый из признаков находится в двух вариантах: 'для всех сезонов в сумме' и 'для текущего сезона'.\n",
        "4. Кроме `признаков` есть ещё `параметры`, которые участвуют в создании признаков.\n",
        "5. Модель считается по признакам 'для текущего сезона'.\n",
        "6. Вводится понятие 'маркер' (см далее). Затем создаём признаки для `test`, в соответствии с результатом маркировки/ БОльшая часть признаков окажется 'для всего сезона', меньшая 'для текущего сезона', ~7% 'среднее по `champ` + `season`.\n"
      ],
      "metadata": {
        "id": "hb-V2cziaRan"
      }
    },
    {
      "cell_type": "code",
      "metadata": {
        "id": "HN9x8-rtwnZs"
      },
      "source": [
        "# Создаём 'season'\n",
        "\n",
        "# пустая колонка, инициализировали\n",
        "train[\"season\"] = '' \n",
        "\n",
        "for i in range(0, train.shape[0], 1):\n",
        "    champ = train['champ'][i]\n",
        "    date = train['time'][i]\n",
        "    current_year, month = date.split('-')[0], date.split('-')[1]\n",
        "    \n",
        "    # Единственный чемпионат, проходящий по формуле 'весна осень' и уместившийся в один календарный год\n",
        "    # Скорее всего, скандинавы какие-нибудь\n",
        "    if champ == 'champ7':\n",
        "        train[\"season\"][i] = current_year  \n",
        "        \n",
        "    # 13 чемпионатов кроме №11 проходят по формуле 'осень весна'\n",
        "    elif champ != 'champ11' and champ !=  'champ7':  \n",
        "        # водораздел всегда июнь, все страны отдыхают\n",
        "        if int(month) < 6:\n",
        "            second_year = current_year\n",
        "            first_year = int(current_year) - 1\n",
        "            train[\"season\"][i] = str(first_year) + ' ' + str(second_year) \n",
        "        else:\n",
        "            first_year = current_year\n",
        "            second_year = int(current_year) + 1\n",
        "            train[\"season\"][i] = str(first_year) + ' ' + str(second_year)   \n",
        "    \n",
        "    # Единственный чемпионат, выглядящий странно:      \n",
        "    # Первый сезон 2011-12 проходит 'весна осень', остальные 'осень весна'\n",
        "    # ... и это ... та-дам!... чемпионат России, перешедший с ВО на ОВ как раз в 2011\n",
        "    elif champ == 'champ11':\n",
        "        if int(current_year) == 2011:  \n",
        "            train[\"season\"][i] = '2011 2012'\n",
        "        elif int(current_year) == 2012 and int(month) < 6:\n",
        "            train[\"season\"][i] = '2011 2012'\n",
        "        elif int(current_year) == 2012 and int(month) > 6:\n",
        "            train[\"season\"][i] = '2012 2013'\n",
        "        elif int(current_year) > 2012:\n",
        "            if int(month) < 6:\n",
        "                first_year = int(current_year) - 1\n",
        "                second_year = current_year\n",
        "                train[\"season\"][i] = str(first_year) + ' ' + str(second_year) \n",
        "            else:\n",
        "                first_year = current_year\n",
        "                second_year = int(current_year) + 1\n",
        "                train[\"season\"][i] = str(first_year) + ' ' + str(second_year)"
      ],
      "execution_count": null,
      "outputs": []
    },
    {
      "cell_type": "code",
      "source": [
        "# То же самое для test\n",
        "\n",
        "test[\"season\"] = '' \n",
        "\n",
        "for i in range(0, test.shape[0], 1):\n",
        "    champ = test['champ'][i]\n",
        "    date = test['time'][i]\n",
        "    current_year, month = date.split('-')[0], date.split('-')[1]\n",
        "    \n",
        "    if champ == 'champ7':\n",
        "        test[\"season\"][i] = current_year  \n",
        "        \n",
        "    elif champ != 'champ11' and champ !=  'champ7':  \n",
        "        if int(month) < 6:\n",
        "            second_year = current_year\n",
        "            first_year = int(current_year) - 1\n",
        "            test[\"season\"][i] = str(first_year) + ' ' + str(second_year) \n",
        "        else:\n",
        "            first_year = current_year\n",
        "            second_year = int(current_year) + 1\n",
        "            test[\"season\"][i] = str(first_year) + ' ' + str(second_year)   \n",
        "    \n",
        "    elif champ == 'champ11':\n",
        "        if int(current_year) == 2011:  \n",
        "            test[\"season\"][i] = '2011 2012'\n",
        "        elif int(current_year) == 2012 and int(month) < 6:\n",
        "            test[\"season\"][i] = '2011 2012'\n",
        "        elif int(current_year) == 2012 and int(month) > 6:\n",
        "            test[\"season\"][i] = '2012 2013'\n",
        "        elif int(current_year) > 2012:\n",
        "            if int(month) < 6:\n",
        "                first_year = int(current_year) - 1\n",
        "                second_year = current_year\n",
        "                test[\"season\"][i] = str(first_year) + ' ' + str(second_year) \n",
        "            else:\n",
        "                first_year = current_year\n",
        "                second_year = int(current_year) + 1\n",
        "                test[\"season\"][i] = str(first_year) + ' ' + str(second_year)"
      ],
      "metadata": {
        "id": "lDgWM0Cbhprm"
      },
      "execution_count": null,
      "outputs": []
    },
    {
      "cell_type": "markdown",
      "source": [
        "# **Признаки для train**\n",
        "\n"
      ],
      "metadata": {
        "id": "NQLfVzRvxtzh"
      }
    },
    {
      "cell_type": "markdown",
      "source": [
        "Признак `Средний target`, т.е. среднее число очков, набираемое командой."
      ],
      "metadata": {
        "id": "jAjDojT11yfu"
      }
    },
    {
      "cell_type": "code",
      "source": [
        "# team_home\n",
        "# one season\n",
        "train[\"f1-1\"] = train.groupby([\"team_home\", \"season\"])[\"target\"].transform(\"mean\") \n",
        "# all seasons\n",
        "train['f1-2'] = train.team_home.map(train.groupby(\"team_home\").target.mean()) \n",
        "\n",
        "# team_away\n",
        "# one season\n",
        "train[\"f2-1\"] = train.groupby([\"team_away\", \"season\"])[\"target\"].transform(\"mean\") \n",
        "# all seasons\n",
        "train['f2-2'] = train.team_away.map(train.groupby(\"team_away\").target.mean()) "
      ],
      "metadata": {
        "id": "I0nM01YlRUe0"
      },
      "execution_count": null,
      "outputs": []
    },
    {
      "cell_type": "markdown",
      "source": [
        "Изредка данные 'one season' & 'all_seasons' совпадают. Не углублялся, но поверхностный взгляд показал, что для данной команды это вообще одна игра в наборе данных."
      ],
      "metadata": {
        "id": "jcWV9bjxUi4K"
      }
    },
    {
      "cell_type": "code",
      "source": [
        "#train[[\"f1-1\",\"f1-2\",\"f2-1\",\"f2-2\"]].head()"
      ],
      "metadata": {
        "id": "0v14-RsLT1t1"
      },
      "execution_count": null,
      "outputs": []
    },
    {
      "cell_type": "markdown",
      "source": [
        "параметр (не признак) `'количество игр команды'`"
      ],
      "metadata": {
        "id": "caccpiDa10fo"
      }
    },
    {
      "cell_type": "code",
      "source": [
        "# за сезон\n",
        "\n",
        "train['team_home_games_one_season'] = train.groupby(['team_home', 'season'])['target'].transform('size')\n",
        "train['team_away_games_one_season'] = train.groupby(['team_away', 'season'])['target'].transform('size')\n",
        "# train.groupby('team_home').size()\n",
        "\n",
        "# за все сезоны суммарно\n",
        "train['team_home_games_all_seasons'] = train.groupby(['team_home'])['target'].transform('size')\n",
        "train['team_away_games_all_seasons'] = train.groupby(['team_away'])['target'].transform('size')\n",
        "# Как он выглядит для всех команд сразу (другое представление)\n",
        "#data.groupby([\"team_home\", \"season\"]).size()"
      ],
      "metadata": {
        "id": "m_R7cm4318AQ"
      },
      "execution_count": null,
      "outputs": []
    },
    {
      "cell_type": "markdown",
      "source": [
        "параметр (не признак) `'Количество побед\\поражений\\ничьих'`"
      ],
      "metadata": {
        "id": "gPqcFtCb4CdP"
      }
    },
    {
      "cell_type": "code",
      "source": [
        "# Столбец для всех исходов target\n",
        "# Если в строке, например, target=0 то в этом столбце будет \"сумма игр с таким исходом этой команды в этом сезоне\"\n",
        "\n",
        "# by season\n",
        "train[\"team_home_target_one_season\"] = train.groupby(['team_home','season','target'])['target'].transform('size')\n",
        "train[\"team_away_target_one_season\"] = train.groupby(['team_away','season','target'])['target'].transform('size')\n",
        "\n",
        "# То же самое но суммарно за все сезоны для этой команды\n",
        "train[\"team_home_target_all_seasons\"] =  train.groupby(['team_home', 'target'])['target'].transform('size')\n",
        "train[\"team_away_target_all_seasons\"] = train.groupby(['team_away', 'target'])['target'].transform('size')"
      ],
      "metadata": {
        "id": "Z0Xh9N0b18Dd"
      },
      "execution_count": null,
      "outputs": []
    },
    {
      "cell_type": "markdown",
      "source": [
        "Признак `'Доля побед\\поражений\\ничьих'`"
      ],
      "metadata": {
        "id": "oQEwtfwE4fA-"
      }
    },
    {
      "cell_type": "code",
      "source": [
        "# team_home\n",
        "# one season\n",
        "train['f3-1'] = train['team_home_target_one_season'] / train['team_home_games_one_season']   # by season\n",
        "# all seasons\n",
        "train['f3-2'] = train['team_home_target_all_seasons'] / train['team_home_games_all_seasons']   # all seasons\n",
        "\n",
        "# team_away\n",
        "# one season\n",
        "train['f4-1'] = train['team_away_target_one_season'] / train['team_away_games_one_season']   # by season\n",
        "# all seasons\n",
        "train['f4-2'] = train['team_away_target_all_seasons'] / train['team_away_games_all_seasons']   # all seasons\n"
      ],
      "metadata": {
        "id": "x4GtzgPZ2jVI"
      },
      "execution_count": null,
      "outputs": []
    },
    {
      "cell_type": "markdown",
      "source": [
        "параметры `'забитые\\пропущенные голы за один\\все сезон\\ы'`"
      ],
      "metadata": {
        "id": "t1JlhP3M-BKd"
      }
    },
    {
      "cell_type": "code",
      "source": [
        "# home_team забитые голы \n",
        "# за сезон \n",
        "train['team_home_scored_goals_one_season'] = train.groupby(['team_home', 'season'])['team_home_score'].transform('sum')\n",
        "# за все сезоны\n",
        "train['team_home_scored_goals_all_seasons'] = train.groupby('team_home')['team_home_score'].transform('sum')\n",
        "\n",
        "# home_team пропущенные голы  \n",
        "# за сезон \n",
        "train['team_home_missed_goals_one_season'] = train.groupby(['team_home', 'season'])['team_away_score'].transform('sum')\n",
        "# за все сезоны\n",
        "train['team_home_missed_goals_all_seasons'] = train.groupby('team_home',)['team_away_score'].transform('sum')\n",
        "#data['team_home_score_out_season'] = data.groupby(['team_home', 'season'])['team_away_score'].transform('sum')\n",
        "\n",
        "# home_away забитые голы \n",
        "# за сезон \n",
        "train['team_away_scored_goals_one_season'] = train.groupby(['team_away', 'season'])['team_away_score'].transform('sum')\n",
        "# за все сезоны\n",
        "train['team_away_scored_goals_all_seasons'] = train.groupby('team_away')['team_away_score'].transform('sum')\n",
        "\n",
        "# home_away пропущенные голы  \n",
        "# за сезон \n",
        "train['team_away_missed_goals_one_season'] = train.groupby(['team_away', 'season'])['team_home_score'].transform('sum')\n",
        "# за все сезоны\n",
        "train['team_away_missed_goals_all_seasons'] = train.groupby('team_away',)['team_home_score'].transform('sum')\n",
        "#data['team_home_score_out_season'] = data.groupby(['team_home', 'season'])['team_away_score'].transform('sum')"
      ],
      "metadata": {
        "id": "pY3P-GJ22jYu"
      },
      "execution_count": null,
      "outputs": []
    },
    {
      "cell_type": "markdown",
      "source": [
        "Признаки 'Среднее забитых\\пропущенных голов'"
      ],
      "metadata": {
        "id": "y83CiEQwFLpu"
      }
    },
    {
      "cell_type": "code",
      "source": [
        "# home_team\n",
        "# за сезон\n",
        "# забитые\n",
        "train['f5-1'] = train['team_home_scored_goals_one_season'] / train['team_home_games_one_season']\n",
        "# пропущенные\n",
        "train['f5-2'] = train['team_home_missed_goals_one_season'] / train['team_home_games_one_season']\n",
        "# за все сезоны\n",
        "# забитые\n",
        "train['f5-3'] = train['team_home_scored_goals_all_seasons'] / train['team_home_games_all_seasons']\n",
        "# пропущенные\n",
        "train['f5-4'] = train['team_home_missed_goals_all_seasons'] / train['team_home_games_all_seasons']\n",
        "\n",
        "# away_team\n",
        "# за сезон\n",
        "# забитые\n",
        "train['f6-1'] = train['team_away_scored_goals_one_season'] / train['team_away_games_one_season']\n",
        "# пропущенные\n",
        "train['f6-2'] = train['team_away_missed_goals_one_season'] / train['team_away_games_one_season']\n",
        "# за все сезоны\n",
        "# забитые\n",
        "train['f6-3'] = train['team_away_scored_goals_all_seasons'] / train['team_away_games_all_seasons']\n",
        "# пропущенные\n",
        "train['f6-4'] = train['team_away_missed_goals_all_seasons'] / train['team_away_games_all_seasons']"
      ],
      "metadata": {
        "id": "OYX7XKEZ18GV"
      },
      "execution_count": null,
      "outputs": []
    },
    {
      "cell_type": "markdown",
      "source": [
        "Признаки `'Сухие игры'`\n",
        "\n",
        "Доля матчей без забитых\\пропущенных голов."
      ],
      "metadata": {
        "id": "EIQE-Orh6q7_"
      }
    },
    {
      "cell_type": "code",
      "source": [
        "#--------------------------------------------- team_home\n",
        "#--------------------one_season               \n",
        "# не забили\n",
        "train['f712'] = ''\n",
        "train['f711'] = train[['team_home', 'season', 'team_home_score']].loc[train['team_home_score'] == 0].groupby(['team_home', 'season']).transform('count') \n",
        "d = {\n",
        "    (t.team_home, t.season): t.f711 for t in train.itertuples() if t.f711 in range(1, 100, 1)\n",
        "}\n",
        "train['f712'] = [d.get((t.team_home, t.season), t.f712) for t in train.itertuples()]\n",
        "train['f712'] = train['f712'].replace('', 0) \n",
        "train['f7-1'] = train['f712'] / train['team_home_games_one_season']\n",
        "\n",
        "# не пропустили\n",
        "train['f722'] = ''\n",
        "train['f721'] = train[['team_home', 'season', 'team_away_score']].loc[train['team_away_score'] == 0].groupby(['team_home', 'season']).transform('count') \n",
        "d = {\n",
        "    (t.team_home, t.season): t.f721 for t in train.itertuples() if t.f721 in range(1, 100, 1)\n",
        "}\n",
        "train['f722'] = [d.get((t.team_home, t.season), t.f722) for t in train.itertuples()]\n",
        "train['f722'] = train['f722'].replace('', 0)    # команда не сыграла в этом сезоне сухих матчей\n",
        "train['f7-2'] = train['f722'] / train['team_home_games_one_season'] \n",
        "\n",
        "#--------------all seasons \n",
        "# не забили\n",
        "train['f7-3'] = (train.team_home.map( train.groupby(train['team_home'][train['team_home_score'] == 0]).size())  / train['team_home_games_all_seasons']).fillna(0)   \n",
        "# не пропустили\n",
        "train['f7-4'] = (train.team_home.map( train.groupby(train['team_home'][train['team_away_score'] == 0]).size()) / train['team_home_games_all_seasons']).fillna(0)   \n",
        "\n",
        "\n",
        "# -------------------------team_away\n",
        "# ----------one_season               \n",
        "# не забили\n",
        "train['f752'] = ''\n",
        "train['f751'] = train[['team_away', 'season', 'team_away_score']].loc[train['team_away_score'] == 0].groupby(['team_away', 'season']).transform('count') \n",
        "d = {\n",
        "    (t.team_away, t.season): t.f751 for t in train.itertuples() if t.f751 in range(1, 100, 1)\n",
        "}\n",
        "train['f752'] = [d.get((t.team_away, t.season), t.f752) for t in train.itertuples()]\n",
        "train['f752'] = train['f752'].replace('', 0)   \n",
        "train['f7-5'] = train['f752'] / train['team_away_games_one_season'] \n",
        "\n",
        "# не пропустили\n",
        "train['f762'] = ''\n",
        "train['f761'] = train[['team_away', 'season', 'team_home_score']].loc[train['team_home_score'] == 0].groupby(['team_away', 'season']).transform('count') \n",
        "d = {\n",
        "    (t.team_away, t.season): t.f761 for t in train.itertuples() if t.f761 in range(1, 100, 1)\n",
        "}\n",
        "train['f762'] = [d.get((t.team_away, t.season), t.f762) for t in train.itertuples()]\n",
        "train['f762'] = train['f762'].replace('', 0)    # команда не сыграла в этом сезоне сухих матчей\n",
        "train['f7-6'] = train['f762'] / train['team_away_games_one_season'] \n",
        "\n",
        "\n",
        "#-------------all seasons\n",
        "# не забили\n",
        "train['f7-7'] = (train.team_away.map( train.groupby(train['team_away'][train['team_home_score'] == 0]).size()) / train['team_away_games_all_seasons']).fillna(0)   \n",
        "# не пропустили\n",
        "train['f7-8'] = (train.team_away.map( train.groupby(train['team_away'][train['team_away_score'] == 0]).size()) / train['team_away_games_all_seasons']).fillna(0)   \n"
      ],
      "metadata": {
        "id": "VCK019J1soO8"
      },
      "execution_count": null,
      "outputs": []
    },
    {
      "cell_type": "markdown",
      "source": [
        "Признак `'Средняя разница забитых\\пропущенных'`"
      ],
      "metadata": {
        "id": "agTH_MQyMF_D"
      }
    },
    {
      "cell_type": "code",
      "source": [
        "#team_home\n",
        "#one season\n",
        "train['f8-1'] = train['f5-1'] - train['f5-2']\n",
        "#all_seasons\n",
        "train['f8-2'] = train['f5-3'] - train['f5-4']\n",
        "\n",
        "#team_away\n",
        "#one season\n",
        "train['f8-3'] = train['f6-1'] - train['f6-2']\n",
        "#all_seasons\n",
        "train['f8-4'] = train['f6-3'] - train['f6-4']"
      ],
      "metadata": {
        "id": "Ccoef5yPyu80"
      },
      "execution_count": null,
      "outputs": []
    },
    {
      "cell_type": "markdown",
      "source": [
        "Итого у нас получилось:\n",
        "\n",
        "Параметры:\n",
        "   - season \n",
        "   - количество побед\\поражений\\ничьих за сезон (team_home_target_season)\n",
        "\n",
        "Признаки:\n",
        "- f19 среднее очков в сезоне home\n",
        "- f20 среднее очков с сезоне away\n",
        "- f21 доля п\\п\\н home\n",
        "- f22 доля п\\п\\н away\n",
        "- f23           разница УБРАЛ\n",
        "- f24           разница УБРАЛ\n",
        "- f25 среднее забитые home\n",
        "- f26 среднее пропущенные home\n",
        "- f27 среднее забитые away\n",
        "- f28 среднее пропущенные away\n",
        "- f29 не забили home\\n\n",
        "- f30 не пропустили home\\n\n",
        "- F31 не забили away\\n\n",
        "- F32 не пропустили away\\n"
      ],
      "metadata": {
        "id": "zLd-puTbPClJ"
      }
    },
    {
      "cell_type": "markdown",
      "source": [
        "NaN'ов нет"
      ],
      "metadata": {
        "id": "iUEBdw93Hzl1"
      }
    },
    {
      "cell_type": "code",
      "source": [
        "# 28\n",
        "cols = ['f1-1', 'f1-2', 'f2-1', 'f2-2', 'f3-1', 'f3-2', 'f4-1', \n",
        "        'f4-2', 'f5-1', 'f5-2', 'f5-3', 'f5-4', 'f6-1', 'f6-2', \n",
        "        'f6-3', 'f6-4', 'f7-1', 'f7-2', 'f7-3', 'f7-4', 'f7-5', \n",
        "        'f7-6', 'f7-7', 'f7-8', 'f8-1', 'f8-2', 'f8-3', 'f8-4'] \n",
        "\n",
        "train[cols].info()       "
      ],
      "metadata": {
        "id": "vvDIk56VGe6b"
      },
      "execution_count": null,
      "outputs": []
    },
    {
      "cell_type": "markdown",
      "source": [
        "нормализация"
      ],
      "metadata": {
        "id": "F4qLrIlTH9MC"
      }
    },
    {
      "cell_type": "code",
      "source": [
        "for col in train[['f1-1', 'f1-2', 'f2-1', 'f2-2', 'f3-1', 'f3-2', 'f4-1', 'f4-2', 'f5-1', 'f5-2', 'f5-3', 'f5-4',\n",
        "       'f6-1', 'f6-2', 'f6-3', 'f6-4', 'f7-1', 'f7-2', 'f7-3', 'f7-4', 'f7-5', \n",
        "       'f7-6', 'f7-7', 'f7-8', 'f8-1', 'f8-2', 'f8-3', 'f8-4']].columns.tolist():\n",
        "    try:\n",
        "        print(col, 'min: ', train[col].min(), 'max: ', train[col].max())\n",
        "    except TypeError:\n",
        "      print(col)"
      ],
      "metadata": {
        "id": "T_gASKB4_he4"
      },
      "execution_count": null,
      "outputs": []
    },
    {
      "cell_type": "code",
      "source": [
        "#14\n",
        "cols_for_norm = ['f1-1', 'f1-2', 'f2-1', 'f2-2', 'f5-1', 'f5-2', 'f5-3', \n",
        "                 'f5-4', 'f6-1', 'f6-2', 'f6-3', 'f6-4', 'f8-1', 'f8-2', \n",
        "                 'f8-3', 'f8-4']\n",
        "\n",
        "scaler = MinMaxScaler()\n",
        "train[cols_for_norm] = scaler.fit_transform(train[cols_for_norm]) "
      ],
      "metadata": {
        "id": "N9eplNh2GfBT"
      },
      "execution_count": null,
      "outputs": []
    },
    {
      "cell_type": "code",
      "source": [
        "# set for one season\n",
        "cols_one_season = ['f1-1', 'f2-1', 'f3-1', 'f4-1' ,'f5-1' ,'f5-2', 'f6-1',\n",
        "                   'f6-2', 'f7-1', 'f7-2', 'f7-5', 'f7-6', 'f8-1', 'f8-3']\n",
        "\n",
        "# set for all_seasons\n",
        "cols_all_seasons = ['f1-2', 'f2-2', 'f3-2', 'f4-2', 'f5-3', 'f5-4', 'f6-3',\n",
        "                    'f6-4', 'f7-3', 'f7-4', 'f7-7', 'f7-8', 'f8-2','f8-4']"
      ],
      "metadata": {
        "id": "gAlZ_qZsBZI_"
      },
      "execution_count": null,
      "outputs": []
    },
    {
      "cell_type": "markdown",
      "source": [
        "#**Модель**"
      ],
      "metadata": {
        "id": "lmCARuvRLjCW"
      }
    },
    {
      "cell_type": "markdown",
      "source": [
        "###Logistic Regression\n",
        "\n",
        "Так как нам нужна вероятность каждого из трёх возможных исходов, то с самого начала я смотрел на LR. Она же и показала себя хорошо по сравнению с несколькими другими (Random Forrest, Xgboost) опробованными моделями.\n",
        "\n",
        "Подобрать и потюнить алгоритм, особенно в данном соревновании, менее важно по сравнению с изучениeм и предобработкой данных. Поэтому этап выбора модели пропущен."
      ],
      "metadata": {
        "id": "OFEeCg5r_r5z"
      }
    },
    {
      "cell_type": "code",
      "source": [
        "lr = LogisticRegression()\n",
        "\n",
        "param_grid = {\n",
        "     'penalty' : ['l1', 'l2'],\n",
        "    'C' : np.logspace(-4, 4, 20),\n",
        "    'solver' : ['liblinear']}\n",
        "\n",
        "# Create grid search object\n",
        "gs = GridSearchCV(lr, param_grid = param_grid, cv = 5, verbose=True, n_jobs=-1)\n",
        "\n",
        "# Fit on data\n",
        "gs.fit(train[cols_one_season], train['target'])"
      ],
      "metadata": {
        "id": "qovcBU2zLDEV"
      },
      "execution_count": null,
      "outputs": []
    },
    {
      "cell_type": "code",
      "source": [
        "print(gs.best_score_)  # оценка на лучшем наборе параметров\n",
        "print(gs.best_params_)  # лучший набор параметров "
      ],
      "metadata": {
        "colab": {
          "base_uri": "https://localhost:8080/"
        },
        "id": "mxarcG9yA-1g",
        "outputId": "cb8cab18-3843-4a2f-a22a-df3d37019d85"
      },
      "execution_count": null,
      "outputs": [
        {
          "output_type": "stream",
          "name": "stdout",
          "text": [
            "0.7517014996900491\n",
            "{'C': 11.288378916846883, 'penalty': 'l1', 'solver': 'liblinear'}\n"
          ]
        }
      ]
    },
    {
      "cell_type": "code",
      "source": [
        "# с лучшими из подобранных параметров заново создаётся модель\n",
        "lr = LogisticRegression(solver='liblinear', penalty='l1', C = 11.3) \n",
        "preds = cross_val_predict(lr, train[cols_one_season], train['target'], n_jobs=-1, method=\"predict_proba\")  \n",
        "print(\"Score is {}\".format(log_loss(train['target'], preds)))   "
      ],
      "metadata": {
        "colab": {
          "base_uri": "https://localhost:8080/"
        },
        "id": "-i_riHJWA-4W",
        "outputId": "1af50c97-6e80-4a76-b62d-e48f73444adf"
      },
      "execution_count": null,
      "outputs": [
        {
          "output_type": "stream",
          "name": "stdout",
          "text": [
            "Score is 0.6122988668786341\n"
          ]
        }
      ]
    },
    {
      "cell_type": "code",
      "source": [
        "#'заново обучается'\n",
        "lr.fit(train[cols_one_season], train['target']) "
      ],
      "metadata": {
        "colab": {
          "base_uri": "https://localhost:8080/",
          "height": 74
        },
        "id": "G5hmbk7ZBFEm",
        "outputId": "e6a930dc-3b5e-4812-91f6-427ba611f1b6"
      },
      "execution_count": null,
      "outputs": [
        {
          "output_type": "execute_result",
          "data": {
            "text/plain": [
              "LogisticRegression(C=11.3, penalty='l1', solver='liblinear')"
            ],
            "text/html": [
              "<style>#sk-container-id-1 {color: black;background-color: white;}#sk-container-id-1 pre{padding: 0;}#sk-container-id-1 div.sk-toggleable {background-color: white;}#sk-container-id-1 label.sk-toggleable__label {cursor: pointer;display: block;width: 100%;margin-bottom: 0;padding: 0.3em;box-sizing: border-box;text-align: center;}#sk-container-id-1 label.sk-toggleable__label-arrow:before {content: \"▸\";float: left;margin-right: 0.25em;color: #696969;}#sk-container-id-1 label.sk-toggleable__label-arrow:hover:before {color: black;}#sk-container-id-1 div.sk-estimator:hover label.sk-toggleable__label-arrow:before {color: black;}#sk-container-id-1 div.sk-toggleable__content {max-height: 0;max-width: 0;overflow: hidden;text-align: left;background-color: #f0f8ff;}#sk-container-id-1 div.sk-toggleable__content pre {margin: 0.2em;color: black;border-radius: 0.25em;background-color: #f0f8ff;}#sk-container-id-1 input.sk-toggleable__control:checked~div.sk-toggleable__content {max-height: 200px;max-width: 100%;overflow: auto;}#sk-container-id-1 input.sk-toggleable__control:checked~label.sk-toggleable__label-arrow:before {content: \"▾\";}#sk-container-id-1 div.sk-estimator input.sk-toggleable__control:checked~label.sk-toggleable__label {background-color: #d4ebff;}#sk-container-id-1 div.sk-label input.sk-toggleable__control:checked~label.sk-toggleable__label {background-color: #d4ebff;}#sk-container-id-1 input.sk-hidden--visually {border: 0;clip: rect(1px 1px 1px 1px);clip: rect(1px, 1px, 1px, 1px);height: 1px;margin: -1px;overflow: hidden;padding: 0;position: absolute;width: 1px;}#sk-container-id-1 div.sk-estimator {font-family: monospace;background-color: #f0f8ff;border: 1px dotted black;border-radius: 0.25em;box-sizing: border-box;margin-bottom: 0.5em;}#sk-container-id-1 div.sk-estimator:hover {background-color: #d4ebff;}#sk-container-id-1 div.sk-parallel-item::after {content: \"\";width: 100%;border-bottom: 1px solid gray;flex-grow: 1;}#sk-container-id-1 div.sk-label:hover label.sk-toggleable__label {background-color: #d4ebff;}#sk-container-id-1 div.sk-serial::before {content: \"\";position: absolute;border-left: 1px solid gray;box-sizing: border-box;top: 0;bottom: 0;left: 50%;z-index: 0;}#sk-container-id-1 div.sk-serial {display: flex;flex-direction: column;align-items: center;background-color: white;padding-right: 0.2em;padding-left: 0.2em;position: relative;}#sk-container-id-1 div.sk-item {position: relative;z-index: 1;}#sk-container-id-1 div.sk-parallel {display: flex;align-items: stretch;justify-content: center;background-color: white;position: relative;}#sk-container-id-1 div.sk-item::before, #sk-container-id-1 div.sk-parallel-item::before {content: \"\";position: absolute;border-left: 1px solid gray;box-sizing: border-box;top: 0;bottom: 0;left: 50%;z-index: -1;}#sk-container-id-1 div.sk-parallel-item {display: flex;flex-direction: column;z-index: 1;position: relative;background-color: white;}#sk-container-id-1 div.sk-parallel-item:first-child::after {align-self: flex-end;width: 50%;}#sk-container-id-1 div.sk-parallel-item:last-child::after {align-self: flex-start;width: 50%;}#sk-container-id-1 div.sk-parallel-item:only-child::after {width: 0;}#sk-container-id-1 div.sk-dashed-wrapped {border: 1px dashed gray;margin: 0 0.4em 0.5em 0.4em;box-sizing: border-box;padding-bottom: 0.4em;background-color: white;}#sk-container-id-1 div.sk-label label {font-family: monospace;font-weight: bold;display: inline-block;line-height: 1.2em;}#sk-container-id-1 div.sk-label-container {text-align: center;}#sk-container-id-1 div.sk-container {/* jupyter's `normalize.less` sets `[hidden] { display: none; }` but bootstrap.min.css set `[hidden] { display: none !important; }` so we also need the `!important` here to be able to override the default hidden behavior on the sphinx rendered scikit-learn.org. See: https://github.com/scikit-learn/scikit-learn/issues/21755 */display: inline-block !important;position: relative;}#sk-container-id-1 div.sk-text-repr-fallback {display: none;}</style><div id=\"sk-container-id-1\" class=\"sk-top-container\"><div class=\"sk-text-repr-fallback\"><pre>LogisticRegression(C=11.3, penalty=&#x27;l1&#x27;, solver=&#x27;liblinear&#x27;)</pre><b>In a Jupyter environment, please rerun this cell to show the HTML representation or trust the notebook. <br />On GitHub, the HTML representation is unable to render, please try loading this page with nbviewer.org.</b></div><div class=\"sk-container\" hidden><div class=\"sk-item\"><div class=\"sk-estimator sk-toggleable\"><input class=\"sk-toggleable__control sk-hidden--visually\" id=\"sk-estimator-id-1\" type=\"checkbox\" checked><label for=\"sk-estimator-id-1\" class=\"sk-toggleable__label sk-toggleable__label-arrow\">LogisticRegression</label><div class=\"sk-toggleable__content\"><pre>LogisticRegression(C=11.3, penalty=&#x27;l1&#x27;, solver=&#x27;liblinear&#x27;)</pre></div></div></div></div></div>"
            ]
          },
          "metadata": {},
          "execution_count": 21
        }
      ]
    },
    {
      "cell_type": "code",
      "source": [],
      "metadata": {
        "id": "jOweruMLBFJE"
      },
      "execution_count": null,
      "outputs": []
    },
    {
      "cell_type": "markdown",
      "source": [
        "#Признаки для **test**"
      ],
      "metadata": {
        "id": "dh0D0pIhv6f7"
      }
    },
    {
      "cell_type": "markdown",
      "source": [
        "Формируем `test` в двух окнах - `team_home` & `team_away`"
      ],
      "metadata": {
        "id": "l2UbMtFJSrmT"
      }
    },
    {
      "cell_type": "markdown",
      "source": [
        "Вот тут обнаружилось ещё несколько проблем, \n",
        "* Команда присутствует в `train`, но отсутствует в `test`, либо наоборот. \n",
        "* В `train` команда есть, но только `home`, а `test` только `away`. \n",
        "* Команда присутствует в `train` и `test`, но в разные сезоны.\n",
        "\n",
        "Это очень сильно снижает качество предсказания! С другой стороны такое усложнение похоже на привет от организаторов, а значит я на правильном пути!\n",
        "\n",
        "Вынужденно вводится важный параметр `marker`, который покажет степень присутствия команды в `train`. Объяснение в комментариях в следующей ячейке."
      ],
      "metadata": {
        "id": "dEokwJ1qbrlP"
      }
    },
    {
      "cell_type": "code",
      "source": [
        "test[\"team_home_marker\"] = '' \n",
        "\n",
        "for i in range(0, test.shape[0], 1):\n",
        "    if test['team_home'][i] in set(train['team_home']):\n",
        "        if test['season'][i] in set(train[train['team_home'] == test['team_home'][i]]['season']):\n",
        "            test[\"team_home_marker\"][i] = 1        # 2043     сезоны совпали => признак будет на основании суммы по одному сезону\n",
        "        else:\n",
        "            test[\"team_home_marker\"][i] = 2        # 4673     нет такого сезона => признак будут на основании суммы всех сезонов\n",
        "    else:\n",
        "        test[\"team_home_marker\"][i] = 3            # 495=7%   такой команды из test нет в train"
      ],
      "metadata": {
        "id": "ic5DPHuvbxKo"
      },
      "execution_count": null,
      "outputs": []
    },
    {
      "cell_type": "code",
      "source": [
        "test[\"team_away_marker\"] = '' \n",
        "\n",
        "for i in range(0, test.shape[0], 1):\n",
        "    if test['team_away'][i] in set(train['team_away']):\n",
        "        if test['season'][i] in set(train[train['team_away'] == test['team_away'][i]]['season']):\n",
        "            test[\"team_away_marker\"][i] = 4                  # 2043         мэпинг по сезону\n",
        "        else:\n",
        "            test[\"team_away_marker\"][i] = 5                  # 4677         мэпинг среднего по всем сезонам\n",
        "    else:\n",
        "        test[\"team_away_marker\"][i] = 6                      # 491    "
      ],
      "metadata": {
        "id": "qwS4_mTEbxOH"
      },
      "execution_count": null,
      "outputs": []
    },
    {
      "cell_type": "markdown",
      "source": [
        "`team_home`"
      ],
      "metadata": {
        "id": "vnBEdQ0SwbYB"
      }
    },
    {
      "cell_type": "code",
      "source": [
        "for c in test[cols_one_season]:\n",
        "    del test[c]"
      ],
      "metadata": {
        "id": "vQLsnI_yNjBa"
      },
      "execution_count": null,
      "outputs": []
    },
    {
      "cell_type": "code",
      "source": [
        "test[['f1-1', 'f3-1', 'f5-1', 'f5-2', 'f7-1', 'f7-2', 'f8-1']].head()"
      ],
      "metadata": {
        "id": "kR-pTfmUSwhi"
      },
      "execution_count": null,
      "outputs": []
    },
    {
      "cell_type": "code",
      "source": [
        "# имена колонок должны совпадать с train[cols_one_season]\n",
        "test['f1-1'], test['f3-1'], test['f5-1'], test['f5-2'], test['f7-1'], test['f7-2'], test['f8-1'] = '','','','','','',''\n",
        "\n",
        "\n",
        "# team_home\n",
        "for i in range(0, test.shape[0], 1):\n",
        "    #if test['team_home'][i] in set(train['team_home']):\n",
        "        #if test['season'][i] in set(train[train['team_home'] == test['team_home'][i]]['season']):\n",
        "        if test[\"team_home_marker\"][i] == 1:\n",
        "            #test[\"team_home_marker\"][i] = 1        # 2043     сезоны совпали => признак будет на основании суммы по одному сезону\n",
        "            test['f1-1'][i] = train.loc[(train['team_home'] == test['team_home'][i]) & (train['season'] == test['season'][i])]['f1-1'].tolist()[0]\n",
        "            test['f3-1'][i] = train.loc[(train['team_home'] == test['team_home'][i]) & (train['season'] == test['season'][i])]['f3-1'].tolist()[0]\n",
        "            test['f5-1'][i] = train.loc[(train['team_home'] == test['team_home'][i]) & (train['season'] == test['season'][i])]['f5-1'].tolist()[0]\n",
        "            test['f5-2'][i] = train.loc[(train['team_home'] == test['team_home'][i]) & (train['season'] == test['season'][i])]['f5-2'].tolist()[0]\n",
        "            test['f7-1'][i] = train.loc[(train['team_home'] == test['team_home'][i]) & (train['season'] == test['season'][i])]['f7-1'].tolist()[0]\n",
        "            test['f7-2'][i] = train.loc[(train['team_home'] == test['team_home'][i]) & (train['season'] == test['season'][i])]['f7-2'].tolist()[0]\n",
        "            test['f8-1'][i] = train.loc[(train['team_home'] == test['team_home'][i]) & (train['season'] == test['season'][i])]['f8-1'].tolist()[0]\n",
        "        elif test[\"team_home_marker\"][i] == 2:\n",
        "            #test[\"team_home_marker\"][i] = 2        # 4673     нет такого сезона => признак будут на основании суммы всех сезонов\n",
        "            test['f1-1'][i] = train.loc[train['team_home'] == test['team_home'][i]]['f1-2'].tolist()[0]\n",
        "            test['f3-1'][i] = train.loc[train['team_home'] == test['team_home'][i]]['f3-2'].tolist()[0]\n",
        "            test['f5-1'][i] = train.loc[train['team_home'] == test['team_home'][i]]['f5-3'].tolist()[0]\n",
        "            test['f5-2'][i] = train.loc[train['team_home'] == test['team_home'][i]]['f5-4'].tolist()[0]\n",
        "            test['f7-1'][i] = train.loc[train['team_home'] == test['team_home'][i]]['f7-3'].tolist()[0]\n",
        "            test['f7-2'][i] = train.loc[train['team_home'] == test['team_home'][i]]['f7-4'].tolist()[0]\n",
        "            test['f8-1'][i] = train.loc[train['team_home'] == test['team_home'][i]]['f8-2'].tolist()[0]\n",
        "        elif test[\"team_home_marker\"][i] == 3:           #495 (~7%)   такой команды из test нет в train\n",
        "            # потом доделать среднее по чемпу и сезону\n",
        "            test['f1-1'][i] = train['f1-1'].mean()\n",
        "            test['f3-1'][i] = train['f3-1'].mean()\n",
        "            test['f5-1'][i] = train['f5-1'].mean()\n",
        "            test['f5-2'][i] = train['f5-2'].mean()\n",
        "            test['f7-1'][i] = train['f7-1'].mean()\n",
        "            test['f7-2'][i] = train['f7-2'].mean()\n",
        "            test['f8-1'][i] = train['f8-1'].mean()\n"
      ],
      "metadata": {
        "id": "ArcJbGyNyu_b"
      },
      "execution_count": null,
      "outputs": []
    },
    {
      "cell_type": "markdown",
      "source": [
        "`team_away`"
      ],
      "metadata": {
        "id": "Jjb0M9haQ2gu"
      }
    },
    {
      "cell_type": "code",
      "source": [
        "# имена колонок должны совпадать с train[cols_one_season]\n",
        "test['f2-1'], test['f4-1'], test['f6-1'], test['f6-2'], test['f7-5'], test['f7-6'], test['f8-3'] = '','','','','','',''\n",
        "\n",
        "\n",
        "# team_away\n",
        "for i in range(0, test.shape[0], 1):\n",
        "        if test[\"team_away_marker\"][i] == 4:\n",
        "            test['f2-1'][i] = train.loc[(train['team_away'] == test['team_away'][i]) & (train['season'] == test['season'][i])]['f2-1'].tolist()[0]\n",
        "            test['f4-1'][i] = train.loc[(train['team_away'] == test['team_away'][i]) & (train['season'] == test['season'][i])]['f4-1'].tolist()[0]\n",
        "            test['f6-1'][i] = train.loc[(train['team_away'] == test['team_away'][i]) & (train['season'] == test['season'][i])]['f6-1'].tolist()[0]\n",
        "            test['f6-2'][i] = train.loc[(train['team_away'] == test['team_away'][i]) & (train['season'] == test['season'][i])]['f6-2'].tolist()[0] \n",
        "            test['f7-5'][i] = train.loc[(train['team_away'] == test['team_away'][i]) & (train['season'] == test['season'][i])]['f7-5'].tolist()[0]\n",
        "            test['f7-6'][i] = train.loc[(train['team_away'] == test['team_away'][i]) & (train['season'] == test['season'][i])]['f7-6'].tolist()[0]\n",
        "            test['f8-3'][i] = train.loc[(train['team_away'] == test['team_away'][i]) & (train['season'] == test['season'][i])]['f8-3'].tolist()[0]\n",
        "        elif test[\"team_away_marker\"][i] == 5:\n",
        "            test['f2-1'][i] = train.loc[train['team_away'] == test['team_away'][i]]['f2-2'].tolist()[0] \n",
        "            test['f4-1'][i] = train.loc[train['team_away'] == test['team_away'][i]]['f4-2'].tolist()[0]\n",
        "            test['f6-1'][i] = train.loc[train['team_away'] == test['team_away'][i]]['f6-3'].tolist()[0]\n",
        "            test['f6-2'][i] = train.loc[train['team_away'] == test['team_away'][i]]['f6-4'].tolist()[0]\n",
        "            test['f7-5'][i] = train.loc[train['team_away'] == test['team_away'][i]]['f7-7'].tolist()[0] \n",
        "            test['f7-6'][i] = train.loc[train['team_away'] == test['team_away'][i]]['f7-8'].tolist()[0] \n",
        "            test['f8-3'][i] = train.loc[train['team_away'] == test['team_away'][i]]['f8-4'].tolist()[0]\n",
        "        elif test[\"team_away_marker\"][i] == 6:           #495 (~7%)   такой команды из test нет в train\n",
        "            # потом доделать среднее по чемпу и сезону\n",
        "            test['f2-1'][i] = train['f2-1'].mean()\n",
        "            test['f4-1'][i] = train['f4-1'].mean() \n",
        "            test['f6-1'][i] = train['f6-1'].mean()\n",
        "            test['f6-2'][i] = train['f6-2'].mean()\n",
        "            test['f7-5'][i] = train['f7-5'].mean()\n",
        "            test['f7-6'][i] = train['f7-6'].mean()\n",
        "            test['f8-3'][i] = train['f8-3'].mean()\n"
      ],
      "metadata": {
        "id": "VrrW09WJw1Rc"
      },
      "execution_count": null,
      "outputs": []
    },
    {
      "cell_type": "code",
      "source": [],
      "metadata": {
        "id": "JywB4XyIKkqu"
      },
      "execution_count": null,
      "outputs": []
    },
    {
      "cell_type": "code",
      "source": [
        "test_cols = ['f1-1', 'f2-1', 'f3-1', 'f4-1' ,'f5-1' ,'f5-2', 'f6-1',\n",
        "                   'f6-2', 'f7-1', 'f7-2', 'f7-5', 'f7-6', 'f8-1', 'f8-3']"
      ],
      "metadata": {
        "id": "6RgQZIQBKktV"
      },
      "execution_count": null,
      "outputs": []
    },
    {
      "cell_type": "code",
      "metadata": {
        "id": "w9j98EQiwnZ7"
      },
      "source": [
        "test[test_cols].head()"
      ],
      "execution_count": null,
      "outputs": []
    },
    {
      "cell_type": "code",
      "source": [
        "test[['tour', 'team_home', 'team_away', 'time', 'champ','season', 'team_home_marker', 'team_away_marker']].head()"
      ],
      "metadata": {
        "id": "Y0OzlYU6IH66"
      },
      "execution_count": null,
      "outputs": []
    },
    {
      "cell_type": "markdown",
      "metadata": {
        "id": "7sTQkjgYwnZ8"
      },
      "source": [
        "### submit\n",
        "\n",
        "Финал, делаем сабмит."
      ]
    },
    {
      "cell_type": "code",
      "metadata": {
        "id": "Rv9HHFr3wnZ8"
      },
      "source": [
        "submit = pd.DataFrame(lr.predict_proba(test[test_cols]), columns=[\"draw\", \"win\", \"lose\"]).round(3)\n",
        "submit.to_csv(\"submit.csv\")"
      ],
      "execution_count": null,
      "outputs": []
    },
    {
      "cell_type": "code",
      "source": [
        "#C:\\Users\\Mirsky\\Desktop\\Compts\\boosters_football\n",
        "# df.to_csv('raw_data.csv', index=False)\n",
        "\n",
        "submit.to_csv(r\"C:\\submit.csv\",index=False)"
      ],
      "metadata": {
        "id": "9LMjeO3lm68C"
      },
      "execution_count": null,
      "outputs": []
    },
    {
      "cell_type": "code",
      "source": [
        "submit.head() "
      ],
      "metadata": {
        "id": "KQTQZtfBhZEG"
      },
      "execution_count": null,
      "outputs": []
    },
    {
      "cell_type": "code",
      "source": [],
      "metadata": {
        "id": "-3fBb5VNrCit"
      },
      "execution_count": null,
      "outputs": []
    }
  ]
}